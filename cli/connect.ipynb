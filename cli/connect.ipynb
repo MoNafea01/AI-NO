{
 "cells": [
  {
   "cell_type": "code",
   "execution_count": 5,
   "metadata": {},
   "outputs": [],
   "source": [
    "from data_store import get_data_store\n",
    "from save_load import load_data_from_file\n",
    "import pandas as pd\n",
    "from ast import literal_eval"
   ]
  },
  {
   "cell_type": "code",
   "execution_count": 6,
   "metadata": {},
   "outputs": [],
   "source": [
    "def _find_connections(nodes):\n",
    "    # Initialize the connections dictionary\n",
    "    connections = {node['name']: [] for node in nodes}\n",
    "\n",
    "    # Iterate through nodes to establish connections\n",
    "    for node in nodes:\n",
    "        for output in node['output']:\n",
    "            for other_node in nodes:\n",
    "                if other_node['name'] != node['name'] and output in other_node['input']:\n",
    "                    connections[node['name']].append(other_node['name'])\n",
    "            connections[node['name']] = list(set(connections[node['name']]))\n",
    "    return connections\n",
    "\n",
    "\n",
    "def _in_out(s):\n",
    "    arr = s.apply(literal_eval).to_list()\n",
    "    a,b=[],[]\n",
    "    for x,y in arr:\n",
    "        a.append(x)\n",
    "        b.append(y)\n",
    "    return a,b\n",
    "\n",
    "def get_connections(user,project,workflow):\n",
    "    load_data_from_file('data_store.json')\n",
    "    data_store = get_data_store()\n",
    "    data = data_store['users'][user]['projects'][project][workflow]\n",
    "    data = pd.DataFrame(data).loc['ports'].T\n",
    "    inp,outp =_in_out(data)\n",
    "    df = pd.DataFrame({'name':data.index.to_list(),'input':inp,'output':outp})\n",
    "    return _find_connections(df.to_dict(orient='records'))"
   ]
  },
  {
   "cell_type": "code",
   "execution_count": 7,
   "metadata": {},
   "outputs": [
    {
     "data": {
      "text/plain": [
       "{'load_iris': ['train_test_split2', 'train_test_split1'],\n",
       " 'train_test_split1': ['fit_transform', 'transform'],\n",
       " 'train_test_split2': ['fit', 'accurac_score'],\n",
       " 'standard_scaler': ['fit_transform'],\n",
       " 'fit_transform': ['fit'],\n",
       " 'transform': ['predict'],\n",
       " 'logestic_regression': ['fit'],\n",
       " 'fit': ['predict'],\n",
       " 'predict': ['accurac_score'],\n",
       " 'accurac_score': []}"
      ]
     },
     "execution_count": 7,
     "metadata": {},
     "output_type": "execute_result"
    }
   ],
   "source": [
    "get_connections('admin','prj1','logreg_workflow')"
   ]
  }
 ],
 "metadata": {
  "kernelspec": {
   "display_name": "envai",
   "language": "python",
   "name": "python3"
  },
  "language_info": {
   "codemirror_mode": {
    "name": "ipython",
    "version": 3
   },
   "file_extension": ".py",
   "mimetype": "text/x-python",
   "name": "python",
   "nbconvert_exporter": "python",
   "pygments_lexer": "ipython3",
   "version": "3.12.8"
  }
 },
 "nbformat": 4,
 "nbformat_minor": 2
}
